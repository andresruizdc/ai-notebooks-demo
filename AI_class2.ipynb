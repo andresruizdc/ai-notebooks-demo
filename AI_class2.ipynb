{
 "cells": [
  {
   "cell_type": "code",
   "execution_count": 1,
   "id": "36f349fb-ad6b-46e5-9c9c-88cbbbdc61fe",
   "metadata": {},
   "outputs": [],
   "source": [
    "lista = [3, 4, 5, 8, 12]"
   ]
  },
  {
   "cell_type": "code",
   "execution_count": 11,
   "id": "f5f7c10d-6e6d-4606-942a-9349d4d254e3",
   "metadata": {},
   "outputs": [],
   "source": [
    "def desviacionEstandar(list):\n",
    "    length = len(list)\n",
    "    if length == 0 or length == 1:\n",
    "        return -1\n",
    "    \n",
    "    sum = 0\n",
    "    for val in list:\n",
    "        sum += val\n",
    "    media = sum / length\n",
    "    \n",
    "    sum_cuadrado = 0\n",
    "    for val in list:\n",
    "        dif = val - media\n",
    "        sum_cuadrado += dif ** 2\n",
    "\n",
    "    varianza = sum_cuadrado / (length - 1)\n",
    "\n",
    "    return varianza ** 0.5"
   ]
  },
  {
   "cell_type": "code",
   "execution_count": 21,
   "id": "dd3b2c9d-3b48-4a94-9bbf-79833b67a1a2",
   "metadata": {},
   "outputs": [
    {
     "data": {
      "text/plain": [
       "3.646916505762094"
      ]
     },
     "execution_count": 21,
     "metadata": {},
     "output_type": "execute_result"
    }
   ],
   "source": [
    "desviacionEstandar(lista)"
   ]
  },
  {
   "cell_type": "code",
   "execution_count": 35,
   "id": "d9366aec-51a3-41d5-a2ef-316a431819e5",
   "metadata": {},
   "outputs": [],
   "source": [
    "def eurToUsd(val):\n",
    "    return round((val * 0.92), 2)"
   ]
  },
  {
   "cell_type": "code",
   "execution_count": 33,
   "id": "e3284813-46a8-4ad6-8430-a8d54a2fa716",
   "metadata": {},
   "outputs": [
    {
     "data": {
      "text/plain": [
       "4.6"
      ]
     },
     "execution_count": 33,
     "metadata": {},
     "output_type": "execute_result"
    }
   ],
   "source": [
    "eurToUsd(5)"
   ]
  },
  {
   "cell_type": "code",
   "execution_count": 37,
   "id": "f5ac17ea-74df-4842-a01a-94103cfbd6e1",
   "metadata": {},
   "outputs": [],
   "source": [
    "def exchange(amount, exchangeRate):\n",
    "    return round((amount * exchangeRate), 2)"
   ]
  },
  {
   "cell_type": "code",
   "execution_count": 39,
   "id": "489a03dd-664a-4019-9d93-676b40942a87",
   "metadata": {},
   "outputs": [
    {
     "data": {
      "text/plain": [
       "4.6"
      ]
     },
     "execution_count": 39,
     "metadata": {},
     "output_type": "execute_result"
    }
   ],
   "source": [
    "exchange(5, 0.92)"
   ]
  },
  {
   "cell_type": "code",
   "execution_count": 41,
   "id": "c5cff1b5-fb2a-4a13-bba6-4623393a73fc",
   "metadata": {},
   "outputs": [
    {
     "data": {
      "text/plain": [
       "5.4"
      ]
     },
     "execution_count": 41,
     "metadata": {},
     "output_type": "execute_result"
    }
   ],
   "source": [
    "exchange(5, 1.08)"
   ]
  }
 ],
 "metadata": {
  "kernelspec": {
   "display_name": "Python 3 (ipykernel)",
   "language": "python",
   "name": "python3"
  },
  "language_info": {
   "codemirror_mode": {
    "name": "ipython",
    "version": 3
   },
   "file_extension": ".py",
   "mimetype": "text/x-python",
   "name": "python",
   "nbconvert_exporter": "python",
   "pygments_lexer": "ipython3",
   "version": "3.12.4"
  }
 },
 "nbformat": 4,
 "nbformat_minor": 5
}
