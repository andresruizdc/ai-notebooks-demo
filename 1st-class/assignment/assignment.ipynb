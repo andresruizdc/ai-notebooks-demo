{
 "cells": [
  {
   "cell_type": "code",
   "execution_count": 7,
   "metadata": {},
   "outputs": [
    {
     "name": "stdout",
     "output_type": "stream",
     "text": [
      "Exchange 150 USD to EUR: 139.5\n",
      "Exchange -1 USD to EUR: Please use any real positive number\n",
      "Exchange 150 EUR to USD: 162.0\n",
      "Exchange -1 EUR to USD: Please use any real positive number\n"
     ]
    }
   ],
   "source": [
    "# Euro to USD, USD to Euro conversion\n",
    "USD_EXCHANGE_RATE_FOR_EUR = 1.08\n",
    "EUR_EXCHANGE_RATE_FOR_USD = 0.93\n",
    "\n",
    "# Set to any real positive number\n",
    "quantityToConvert = 150\n",
    "\n",
    "def currencyConverter(quantity, exchangeRate):\n",
    "  if (quantity < 0):\n",
    "    return \"Please use any real positive number\"\n",
    "  return quantity * exchangeRate\n",
    "\n",
    "print(\"Exchange\", quantityToConvert, \"USD to EUR:\", currencyConverter(quantityToConvert, EUR_EXCHANGE_RATE_FOR_USD))\n",
    "print(\"Exchange -1 USD to EUR:\", currencyConverter(-1, EUR_EXCHANGE_RATE_FOR_USD))\n",
    "print(\"Exchange\", quantityToConvert, \"EUR to USD:\", currencyConverter(quantityToConvert, USD_EXCHANGE_RATE_FOR_EUR))\n",
    "print(\"Exchange -1 EUR to USD:\", currencyConverter(-1, USD_EXCHANGE_RATE_FOR_EUR))"
   ]
  },
  {
   "cell_type": "code",
   "execution_count": 17,
   "metadata": {},
   "outputs": [
    {
     "name": "stdout",
     "output_type": "stream",
     "text": [
      "Please use same length vectors\n",
      "Please use same length vectors\n",
      "66\n"
     ]
    }
   ],
   "source": [
    "# Dot product\n",
    "from vector import dotProduct\n",
    "\n",
    "print(dotProduct([3, 5], [6, 10, 3]))\n",
    "print(dotProduct([3, 8, 5], [6, 3]))\n",
    "print(dotProduct([-6, 8], [5, 12]))"
   ]
  },
  {
   "cell_type": "code",
   "execution_count": 2,
   "metadata": {},
   "outputs": [
    {
     "name": "stdout",
     "output_type": "stream",
     "text": [
      "Please enter valid matrices\n",
      "[[58, 64], [139, 154]]\n",
      "[[5, 4, 3], [8, 9, 5], [6, 5, 3], [11, 9, 6]]\n",
      "[[83, 63, 37, 75]]\n",
      "[[15], [25], [35]]\n"
     ]
    }
   ],
   "source": [
    "# Matrix multiplication\n",
    "import matrix\n",
    "\n",
    "A = [[1, 2], [4, 5]]\n",
    "B = [[7, 8], [9, 10], [11, 12]]\n",
    "C = [[1, 2, 3], [4, 5, 6]]\n",
    "D = [[7, 8], [9, 10], [11, 12]]\n",
    "E = [[1, 0, 1], [2, 1, 1], [0, 1, 1], [1, 1, 2]]\n",
    "F = [[1, 2, 1], [2, 3, 1], [4, 2, 2]]\n",
    "G = [[3, 4, 2]]\n",
    "H = [[13, 9, 7, 15], [8, 7, 4, 6], [6, 4, 0, 3]]\n",
    "I = [[3], [5], [7]]\n",
    "J = [[5]]\n",
    "\n",
    "print(matrix.multiply(A, B))\n",
    "print(matrix.multiply(C, D))\n",
    "print(matrix.multiply(E, F))\n",
    "print(matrix.multiply(G, H))\n",
    "print(matrix.multiply(I, J))"
   ]
  }
 ],
 "metadata": {
  "kernelspec": {
   "display_name": "Python 3 (ipykernel)",
   "language": "python",
   "name": "python3"
  },
  "language_info": {
   "codemirror_mode": {
    "name": "ipython",
    "version": 3
   },
   "file_extension": ".py",
   "mimetype": "text/x-python",
   "name": "python",
   "nbconvert_exporter": "python",
   "pygments_lexer": "ipython3",
   "version": "3.12.7"
  },
  "panel-cell-order": [
   "492318ea",
   "541ee231",
   "a8c288b6"
  ]
 },
 "nbformat": 4,
 "nbformat_minor": 4
}
